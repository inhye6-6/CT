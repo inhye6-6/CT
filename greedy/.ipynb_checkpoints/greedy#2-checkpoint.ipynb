{
 "cells": [
  {
   "cell_type": "markdown",
   "metadata": {},
   "source": [
    "# 못품 오류 해결하기 (테케 6,11)"
   ]
  },
  {
   "cell_type": "code",
   "execution_count": 211,
   "metadata": {},
   "outputs": [],
   "source": [
    "import string\n",
    "\n",
    "def solution(name):\n",
    "    upper=string.ascii_uppercase\n",
    "\n",
    "    pre = upper[-13:]\n",
    "    after= upper[:13]\n",
    "\n",
    "    answer=0\n",
    "\n",
    "    for alpha in name:\n",
    "        if pre.find(alpha) == -1 :\n",
    "            answer += after.find(alpha)\n",
    "\n",
    "        else: answer += 13-pre.find(alpha)\n",
    "\n",
    "    # 연속된 A 체크\n",
    "    num_of_a =name.count(\"A\")\n",
    "\n",
    "    for i in range(num_of_a,-1,-1):\n",
    "        check =\"A\" * i\n",
    "        index = name.find(\"{}\".format(check))\n",
    "        if index == -1 :\n",
    "            answer+=len(name)-i-1\n",
    "            break\n",
    "\n",
    "    return answer"
   ]
  },
  {
   "cell_type": "markdown",
   "metadata": {},
   "source": [
    "A-Z 움직임 순서(조이스틱 위아래)"
   ]
  },
  {
   "cell_type": "code",
   "execution_count": 22,
   "metadata": {
    "scrolled": true
   },
   "outputs": [
    {
     "data": {
      "text/plain": [
       "('N', 'N')"
      ]
     },
     "execution_count": 22,
     "metadata": {},
     "output_type": "execute_result"
    }
   ],
   "source": [
    "upper[13], upper[-13] # n까지는 다음알파벳으로 가야함"
   ]
  },
  {
   "cell_type": "markdown",
   "metadata": {},
   "source": [
    "좌우 움직임 순서 # 이거 처음부터 다시 짜기"
   ]
  },
  {
   "cell_type": "markdown",
   "metadata": {},
   "source": [
    "name=\"JAK\"\n",
    "bbbaabbb\n",
    "a=\"BBBBAA\"\n",
    "\n",
    "\"NANA\"\n",
    "\"ANNA\"\n",
    "\n",
    "><< <<<<\n",
    ">>"
   ]
  },
  {
   "cell_type": "code",
   "execution_count": 204,
   "metadata": {},
   "outputs": [
    {
     "name": "stdout",
     "output_type": "stream",
     "text": [
      "AAAA\n",
      "AAA\n",
      "AA\n",
      "A\n"
     ]
    }
   ],
   "source": [
    "num_of_a =a.count(\"A\")\n",
    "\n",
    "for i in range(num_of_a,0,-1):\n",
    "    check =\"A\" * i\n",
    "    print(check)\n",
    "    index = name.find(\"{}\".format(check))\n",
    "    if index < i :\n",
    "        answer+=len(name)-i-1\n",
    "        #break\n",
    "    elif index == i:\n",
    "        answer+=len(name)-1-1"
   ]
  }
 ],
 "metadata": {
  "kernelspec": {
   "display_name": "Python 3",
   "language": "python",
   "name": "python3"
  },
  "language_info": {
   "codemirror_mode": {
    "name": "ipython",
    "version": 3
   },
   "file_extension": ".py",
   "mimetype": "text/x-python",
   "name": "python",
   "nbconvert_exporter": "python",
   "pygments_lexer": "ipython3",
   "version": "3.8.5"
  }
 },
 "nbformat": 4,
 "nbformat_minor": 4
}
