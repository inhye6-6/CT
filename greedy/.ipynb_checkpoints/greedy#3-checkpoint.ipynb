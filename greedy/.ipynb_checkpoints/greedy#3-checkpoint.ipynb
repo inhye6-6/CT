{
 "cells": [
  {
   "cell_type": "code",
   "execution_count": 147,
   "metadata": {},
   "outputs": [],
   "source": [
    "number=\"4177252841\"\n",
    "k=4"
   ]
  },
  {
   "cell_type": "code",
   "execution_count": 152,
   "metadata": {},
   "outputs": [],
   "source": [
    "def solution(number, k):\n",
    "    number = list(number)\n",
    "\n",
    "    answer = [number[0]]\n",
    "    \n",
    "    # answer의 가장 마지막에 들어간 숫자가 새로 들어오는 숫자보다 큰지 비교\n",
    "    for i in number[1:]:\n",
    "        while len(answer) > 0 and answer[-1] < i and k > 0 :\n",
    "            answer.pop(-1)\n",
    "            k-=1\n",
    "        answer.append(i)\n",
    "\n",
    "    answer= \"\".join(answer)\n",
    "\n",
    "    # k(제거해야하는 숫자개수)가 남아있으면 삭제\n",
    "    if k > 0 :\n",
    "        answer = answer[:len(answer)-k]\n",
    "\n",
    "    return answer"
   ]
  },
  {
   "cell_type": "code",
   "execution_count": 154,
   "metadata": {
    "scrolled": true
   },
   "outputs": [
    {
     "data": {
      "text/plain": [
       "'775841'"
      ]
     },
     "execution_count": 154,
     "metadata": {},
     "output_type": "execute_result"
    }
   ],
   "source": [
    "solution(number,k)"
   ]
  },
  {
   "cell_type": "markdown",
   "metadata": {},
   "source": [
    "다른 사람 답 #1"
   ]
  },
  {
   "cell_type": "code",
   "execution_count": null,
   "metadata": {},
   "outputs": [],
   "source": [
    "def solution(number, k):\n",
    "    stack = [number[0]]\n",
    "    for num in number[1:]:\n",
    "        while len(stack) > 0 and stack[-1] < num and k > 0:\n",
    "            k -= 1\n",
    "            stack.pop()\n",
    "        stack.append(num)\n",
    "    if k != 0:\n",
    "        stack = stack[:-k]\n",
    "    return ''.join(stack)\n"
   ]
  },
  {
   "cell_type": "markdown",
   "metadata": {},
   "source": [
    "다른 사람 답 #2"
   ]
  },
  {
   "cell_type": "code",
   "execution_count": null,
   "metadata": {},
   "outputs": [],
   "source": [
    "def solution(number, k):\n",
    "    st = []\n",
    "    for i in range(len(number)):\n",
    "        while st and k > 0 and st[-1] < number[i]:\n",
    "            st.pop()\n",
    "            k -= 1\n",
    "        st.append(number[i])\n",
    "    return ''.join(st[:len(st) - k])"
   ]
  }
 ],
 "metadata": {
  "kernelspec": {
   "display_name": "Python 3",
   "language": "python",
   "name": "python3"
  },
  "language_info": {
   "codemirror_mode": {
    "name": "ipython",
    "version": 3
   },
   "file_extension": ".py",
   "mimetype": "text/x-python",
   "name": "python",
   "nbconvert_exporter": "python",
   "pygments_lexer": "ipython3",
   "version": "3.8.5"
  }
 },
 "nbformat": 4,
 "nbformat_minor": 4
}
