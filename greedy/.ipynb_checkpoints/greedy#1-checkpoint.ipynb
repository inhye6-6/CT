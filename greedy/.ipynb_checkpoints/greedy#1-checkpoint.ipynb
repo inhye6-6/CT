{
 "cells": [
  {
   "cell_type": "code",
   "execution_count": 100,
   "metadata": {},
   "outputs": [],
   "source": [
    "def solution(n, lost, reserve):\n",
    "    \n",
    "    # 차집합 구한 후 sort\n",
    "    _lost=sorted(list(set(lost)-set(reserve))) \n",
    "    _reverse=sorted(list(set(reserve)-set(lost)))\n",
    "    \n",
    "    for r in _reverse:\n",
    "        for l in _lost:\n",
    "            if l in [r-1,r+1] :\n",
    "                _lost.remove(l)\n",
    "                break\n",
    "                \n",
    "    answer = n - len(_lost)\n",
    "    \n",
    "    return answer"
   ]
  },
  {
   "cell_type": "code",
   "execution_count": 101,
   "metadata": {
    "scrolled": true
   },
   "outputs": [
    {
     "data": {
      "text/plain": [
       "4"
      ]
     },
     "execution_count": 101,
     "metadata": {},
     "output_type": "execute_result"
    }
   ],
   "source": [
    "n = 5\n",
    "lost = [4,3]\n",
    "reserve = [3,2]\n",
    "solution(n,lost,reserve)"
   ]
  },
  {
   "cell_type": "markdown",
   "metadata": {},
   "source": [
    "다른 사람 풀이 "
   ]
  },
  {
   "cell_type": "code",
   "execution_count": 96,
   "metadata": {},
   "outputs": [],
   "source": [
    "def solution(n, lost, reserve):\n",
    "    \n",
    "    # 차집합 구한 후 sort\n",
    "    _lost=sorted(list(set(lost)-set(reserve))) \n",
    "    _reverse=sorted(list(set(reserve)-set(lost)))\n",
    "    \"\"\"\n",
    "    _reserve = [r for r in reserve if r not in lost]\n",
    "    _lost = [l for l in lost if l not in reserve]\n",
    "    \"\"\"\n",
    "    \n",
    "    for r in _reverse:\n",
    "        pre = r-1\n",
    "        after = r+1\n",
    "        if pre in _lost :\n",
    "            _lost.remove(pre)\n",
    "        elif after in _lost :\n",
    "            _lost.remove(after)\n",
    "                \n",
    "    answer = n - len(_lost)\n",
    "    \n",
    "    return answer"
   ]
  }
 ],
 "metadata": {
  "kernelspec": {
   "display_name": "Python 3",
   "language": "python",
   "name": "python3"
  },
  "language_info": {
   "codemirror_mode": {
    "name": "ipython",
    "version": 3
   },
   "file_extension": ".py",
   "mimetype": "text/x-python",
   "name": "python",
   "nbconvert_exporter": "python",
   "pygments_lexer": "ipython3",
   "version": "3.8.5"
  }
 },
 "nbformat": 4,
 "nbformat_minor": 4
}
