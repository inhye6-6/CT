{
 "cells": [
  {
   "cell_type": "markdown",
   "metadata": {},
   "source": [
    "# 이것이 취업을 위한 코딩테스트다"
   ]
  },
  {
   "cell_type": "markdown",
   "metadata": {},
   "source": [
    "## Ch 3 Greedy"
   ]
  },
  {
   "cell_type": "markdown",
   "metadata": {},
   "source": [
    "### #1 거스름돈"
   ]
  },
  {
   "cell_type": "code",
   "execution_count": 15,
   "metadata": {},
   "outputs": [],
   "source": [
    "def solution(money,price,coin_types):\n",
    "    n = money-price\n",
    "    count = 0\n",
    "    coin_types=sorted(coin_types,reverse=True)\n",
    "    \n",
    "    for coin in coin_types:\n",
    "        count += n // coin # 몫\n",
    "        n %= coin # 나머지\n",
    "        \n",
    "    return count"
   ]
  },
  {
   "cell_type": "code",
   "execution_count": 16,
   "metadata": {},
   "outputs": [],
   "source": [
    "money=5000\n",
    "price=3740\n",
    "coin_types=[100,500,50,10]"
   ]
  },
  {
   "cell_type": "code",
   "execution_count": 17,
   "metadata": {
    "scrolled": true
   },
   "outputs": [
    {
     "data": {
      "text/plain": [
       "6"
      ]
     },
     "execution_count": 17,
     "metadata": {},
     "output_type": "execute_result"
    }
   ],
   "source": [
    "solution(money,price,coin_types)"
   ]
  },
  {
   "cell_type": "markdown",
   "metadata": {},
   "source": [
    "### #2 큰 수의 법칙"
   ]
  },
  {
   "cell_type": "markdown",
   "metadata": {},
   "source": [
    "map은 리스트의 요소를 지정된 함수로 처리해주는 함수"
   ]
  },
  {
   "cell_type": "code",
   "execution_count": 59,
   "metadata": {},
   "outputs": [],
   "source": [
    "def solution():\n",
    "    n,m,k=map(int,input().split())\n",
    "    arr = list(map(int, input().split()))\n",
    "    arr=sorted(arr,reverse=True)\n",
    "    \n",
    "    # 가장 큰 수가 더해지는 횟수\n",
    "   \n",
    "    count = m//(k+1) * k  ### 연속 k번을 더할 수 있는 횟수\n",
    "    count += m % (k+1)  ### 뒤에 남은 수\n",
    "    \n",
    "    answer=a[0]*count+a[1]*(m-count)\n",
    "    \n",
    "    return answer"
   ]
  },
  {
   "cell_type": "code",
   "execution_count": 61,
   "metadata": {
    "scrolled": true
   },
   "outputs": [
    {
     "name": "stdout",
     "output_type": "stream",
     "text": [
      "5 8 4\n",
      "2 4 5 4 6\n"
     ]
    },
    {
     "data": {
      "text/plain": [
       "47"
      ]
     },
     "execution_count": 61,
     "metadata": {},
     "output_type": "execute_result"
    }
   ],
   "source": [
    "solution()"
   ]
  },
  {
   "cell_type": "markdown",
   "metadata": {},
   "source": [
    "### #3 숫자 카드 게임"
   ]
  },
  {
   "cell_type": "code",
   "execution_count": 65,
   "metadata": {},
   "outputs": [],
   "source": [
    "def solution():\n",
    "    n,m = map(int, input().split())\n",
    "    answer=0\n",
    "    for i in range(n) : \n",
    "        lst=list(map(int, input().split()))\n",
    "        min_value=min(lst)\n",
    "        \n",
    "        answer= max(answer,min_value)\n",
    "        \n",
    "    return answer"
   ]
  },
  {
   "cell_type": "code",
   "execution_count": 66,
   "metadata": {},
   "outputs": [
    {
     "name": "stdout",
     "output_type": "stream",
     "text": [
      "3 3\n",
      "1 2 3\n",
      "2 4 1\n",
      "2 2 2\n"
     ]
    },
    {
     "data": {
      "text/plain": [
       "2"
      ]
     },
     "execution_count": 66,
     "metadata": {},
     "output_type": "execute_result"
    }
   ],
   "source": [
    "solution()"
   ]
  },
  {
   "cell_type": "code",
   "execution_count": 67,
   "metadata": {},
   "outputs": [],
   "source": [
    "def solution():\n",
    "    n,m = map(int, input().split())\n",
    "    answer=0\n",
    "    for i in range(n) : \n",
    "        lst=list(map(int, input().split()))\n",
    "        min_value=10001\n",
    "        for num in lst:\n",
    "            min_value=min(num,min_value)\n",
    "        \n",
    "        answer = max(min_value,answer)\n",
    "        \n",
    "    return answer"
   ]
  },
  {
   "cell_type": "markdown",
   "metadata": {},
   "source": [
    "#### 변형(열 반환)"
   ]
  },
  {
   "cell_type": "code",
   "execution_count": 77,
   "metadata": {},
   "outputs": [],
   "source": [
    "def solution():\n",
    "    n,m = map(int, input().split())\n",
    "    answer=(0,0)\n",
    "    for i in range(n):\n",
    "        lst=list(map(int, input().split()))\n",
    "        min_value=(i,min(lst))\n",
    "        \n",
    "        answer=max(answer,min_value,key = lambda x : x[1])\n",
    "    \n",
    "    return answer[0]+1\n",
    "    "
   ]
  },
  {
   "cell_type": "code",
   "execution_count": 78,
   "metadata": {
    "scrolled": false
   },
   "outputs": [
    {
     "name": "stdout",
     "output_type": "stream",
     "text": [
      "3 3 \n",
      "1 2 3\n",
      "2 4 1\n",
      "2 2 2\n"
     ]
    },
    {
     "data": {
      "text/plain": [
       "3"
      ]
     },
     "execution_count": 78,
     "metadata": {},
     "output_type": "execute_result"
    }
   ],
   "source": [
    "solution()"
   ]
  },
  {
   "cell_type": "code",
   "execution_count": 83,
   "metadata": {},
   "outputs": [],
   "source": [
    "def solution():\n",
    "    n,m = map(int, input().split())\n",
    "    min_value={}\n",
    "    for i in range(n):\n",
    "        lst=list(map(int, input().split()))\n",
    "        min_value[i+1]=min(lst)\n",
    "        \n",
    "    answer=[key for m in [max(min_value.values())] for key,val in min_value.items() if val == m]\n",
    "    \n",
    "    return answer"
   ]
  },
  {
   "cell_type": "code",
   "execution_count": 84,
   "metadata": {},
   "outputs": [
    {
     "name": "stdout",
     "output_type": "stream",
     "text": [
      "3 3\n",
      "1 2 3\n",
      "2 4 2\n",
      "2 2 2\n"
     ]
    },
    {
     "data": {
      "text/plain": [
       "[2, 3]"
      ]
     },
     "execution_count": 84,
     "metadata": {},
     "output_type": "execute_result"
    }
   ],
   "source": [
    "solution()"
   ]
  },
  {
   "cell_type": "markdown",
   "metadata": {},
   "source": [
    "### #4 1이 될 때까지"
   ]
  },
  {
   "cell_type": "code",
   "execution_count": 121,
   "metadata": {},
   "outputs": [],
   "source": [
    "def solution():\n",
    "    n, k = map(int,input().split())\n",
    "    answer=0\n",
    "    while True :    \n",
    "        count = n%k\n",
    "        n= (n-count)//k \n",
    "        answer+= count + 1 # +1은 n을 k로 나눈 횟수\n",
    "        if n<k :\n",
    "            answer+=n-1\n",
    "            break\n",
    "    return answer"
   ]
  },
  {
   "cell_type": "code",
   "execution_count": 123,
   "metadata": {},
   "outputs": [
    {
     "name": "stdout",
     "output_type": "stream",
     "text": [
      "25 3\n"
     ]
    },
    {
     "data": {
      "text/plain": [
       "6"
      ]
     },
     "execution_count": 123,
     "metadata": {},
     "output_type": "execute_result"
    }
   ],
   "source": [
    "solution()"
   ]
  }
 ],
 "metadata": {
  "kernelspec": {
   "display_name": "Python 3",
   "language": "python",
   "name": "python3"
  },
  "language_info": {
   "codemirror_mode": {
    "name": "ipython",
    "version": 3
   },
   "file_extension": ".py",
   "mimetype": "text/x-python",
   "name": "python",
   "nbconvert_exporter": "python",
   "pygments_lexer": "ipython3",
   "version": "3.8.5"
  }
 },
 "nbformat": 4,
 "nbformat_minor": 4
}
