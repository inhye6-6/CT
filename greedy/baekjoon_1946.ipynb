{
 "cells": [
  {
   "cell_type": "markdown",
   "metadata": {},
   "source": [
    "서류랭킹 순서대로 정렬한 후에 인터뷰랭킹이 서류랭킹이 높은 사람들 보다 높은 지 확인"
   ]
  },
  {
   "cell_type": "code",
   "execution_count": 1,
   "metadata": {},
   "outputs": [
    {
     "name": "stdout",
     "output_type": "stream",
     "text": [
      "1\n",
      "5\n",
      "1 4\n",
      "2 5\n",
      "3 2\n",
      "5 1\n",
      "4 3\n",
      "3\n"
     ]
    }
   ],
   "source": [
    "t=int(input())\n",
    "for _ in range(t):\n",
    "    \n",
    "    n=int(input())\n",
    "    total=[tuple(map(int,input().split())) for _ in range(n)]\n",
    "\n",
    "    total=sorted(total)\n",
    "    interview = total[0][1]\n",
    "    count = 1\n",
    "    \n",
    "    for i in range(1,n):\n",
    "        if total[i][1]< interview :\n",
    "            count+=1\n",
    "            interview = total[i][1]\n",
    "\n",
    "    print(count)"
   ]
  },
  {
   "cell_type": "markdown",
   "metadata": {},
   "source": [
    "### input()의 입력 저장 순서\n",
    "\n",
    " \n",
    "1. input이 호출되면 인자로 주어진 Prompt 문자열을 화면에 출력하고 사용자의 입력을 기다린다\n",
    "\n",
    "2. 이 때 표준 입력은 키보드다\n",
    "\n",
    "3. 사용자가 키를 하나씩 누르면 이에 대응하는 데이터가 버퍼에 들어간다\n",
    "\n",
    "4. enter키를 누르면 개행문자(줄바꿈,, \\n)이 입력되며, 버퍼의 입력이 종료된 것으로 간주\n",
    "\n",
    "5. 입력된 문자열은 해당 시스템의 콘솔 입출력 인코딩을 사용하여 디코드되어 유니코드 문자열로 변환된다.\n",
    "\n",
    "6. input() 함수는 변환된 문자열 값을 반환하면서 종료한다\n",
    "\n",
    " \n",
    "\n",
    "### stdin.readline()과 input()함수간의 속도차이\n",
    "\n",
    " \n",
    "\n",
    "1. 두 함수간의 속도차이는 Prompt 출력여부와\n",
    "\n",
    "2. 한번에 읽어와 버퍼에  저장하는 stdin.readline()가 하나씩 누를 때마다 데이터를 버퍼에 보관하는 input() 보다 처리 속도가 빠르다. 즉, 버퍼 사이즈 차이로 입력이 반복될 수록 stdin.readline()이 우위를 가진다."
   ]
  },
  {
   "cell_type": "markdown",
   "metadata": {},
   "source": [
    "jupyter sys 지원 X"
   ]
  },
  {
   "cell_type": "code",
   "execution_count": 2,
   "metadata": {},
   "outputs": [
    {
     "ename": "ValueError",
     "evalue": "invalid literal for int() with base 10: ''",
     "output_type": "error",
     "traceback": [
      "\u001b[1;31m---------------------------------------------------------------------------\u001b[0m",
      "\u001b[1;31mValueError\u001b[0m                                Traceback (most recent call last)",
      "\u001b[1;32m<ipython-input-2-4594584d6fb1>\u001b[0m in \u001b[0;36m<module>\u001b[1;34m\u001b[0m\n\u001b[0;32m      3\u001b[0m \u001b[0minput\u001b[0m \u001b[1;33m=\u001b[0m \u001b[0msys\u001b[0m\u001b[1;33m.\u001b[0m\u001b[0mstdin\u001b[0m\u001b[1;33m.\u001b[0m\u001b[0mreadline\u001b[0m\u001b[1;33m\u001b[0m\u001b[1;33m\u001b[0m\u001b[0m\n\u001b[0;32m      4\u001b[0m \u001b[1;33m\u001b[0m\u001b[0m\n\u001b[1;32m----> 5\u001b[1;33m \u001b[0mt\u001b[0m\u001b[1;33m=\u001b[0m\u001b[0mint\u001b[0m\u001b[1;33m(\u001b[0m\u001b[0minput\u001b[0m\u001b[1;33m(\u001b[0m\u001b[1;33m)\u001b[0m\u001b[1;33m)\u001b[0m\u001b[1;33m\u001b[0m\u001b[1;33m\u001b[0m\u001b[0m\n\u001b[0m\u001b[0;32m      6\u001b[0m \u001b[1;32mfor\u001b[0m \u001b[0m_\u001b[0m \u001b[1;32min\u001b[0m \u001b[0mrange\u001b[0m\u001b[1;33m(\u001b[0m\u001b[0mt\u001b[0m\u001b[1;33m)\u001b[0m\u001b[1;33m:\u001b[0m\u001b[1;33m\u001b[0m\u001b[1;33m\u001b[0m\u001b[0m\n\u001b[0;32m      7\u001b[0m \u001b[1;33m\u001b[0m\u001b[0m\n",
      "\u001b[1;31mValueError\u001b[0m: invalid literal for int() with base 10: ''"
     ]
    }
   ],
   "source": [
    "import sys\n",
    "\n",
    "input = sys.stdin.readline\n",
    "\n",
    "t=int(input())\n",
    "for _ in range(t):\n",
    "    \n",
    "    n=int(input())\n",
    "    total=[tuple(map(int,input().split())) for _ in range(n)]\n",
    "\n",
    "    total=sorted(total)\n",
    "    interview = total[0][1]\n",
    "    count = 1\n",
    "    \n",
    "    for i in range(1,n):\n",
    "        if total[i][1]< interview :\n",
    "            count+=1\n",
    "            interview = total[i][1]\n",
    "\n",
    "    print(count)\n"
   ]
  }
 ],
 "metadata": {
  "kernelspec": {
   "display_name": "Python 3",
   "language": "python",
   "name": "python3"
  },
  "language_info": {
   "codemirror_mode": {
    "name": "ipython",
    "version": 3
   },
   "file_extension": ".py",
   "mimetype": "text/x-python",
   "name": "python",
   "nbconvert_exporter": "python",
   "pygments_lexer": "ipython3",
   "version": "3.8.5"
  }
 },
 "nbformat": 4,
 "nbformat_minor": 4
}
