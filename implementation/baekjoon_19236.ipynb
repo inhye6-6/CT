{
 "cells": [
  {
   "cell_type": "markdown",
   "metadata": {},
   "source": []
  },
  {
   "cell_type": "code",
   "execution_count": 6,
   "metadata": {},
   "outputs": [],
   "source": [
    "from copy import deepcopy"
   ]
  },
  {
   "cell_type": "code",
   "execution_count": 16,
   "metadata": {},
   "outputs": [
    {
     "name": "stdout",
     "output_type": "stream",
     "text": [
      "7 6 2 3 15 6 9 8\n",
      "3 1 1 8 14 7 10 1\n",
      "6 1 13 6 4 3 11 4\n",
      "16 1 8 7 5 2 12 2\n"
     ]
    },
    {
     "ename": "RecursionError",
     "evalue": "maximum recursion depth exceeded while calling a Python object",
     "output_type": "error",
     "traceback": [
      "\u001b[1;31m---------------------------------------------------------------------------\u001b[0m",
      "\u001b[1;31mRecursionError\u001b[0m                            Traceback (most recent call last)",
      "\u001b[1;32m<ipython-input-16-2a589fc6e5fe>\u001b[0m in \u001b[0;36m<module>\u001b[1;34m\u001b[0m\n\u001b[0;32m     66\u001b[0m \u001b[1;33m\u001b[0m\u001b[0m\n\u001b[0;32m     67\u001b[0m \u001b[0mresult\u001b[0m \u001b[1;33m=\u001b[0m \u001b[1;36m0\u001b[0m\u001b[1;33m\u001b[0m\u001b[1;33m\u001b[0m\u001b[0m\n\u001b[1;32m---> 68\u001b[1;33m \u001b[0meat_fish\u001b[0m\u001b[1;33m(\u001b[0m\u001b[0marr\u001b[0m\u001b[1;33m,\u001b[0m\u001b[0mfish_idx\u001b[0m\u001b[1;33m,\u001b[0m\u001b[1;36m0\u001b[0m\u001b[1;33m,\u001b[0m\u001b[1;36m0\u001b[0m\u001b[1;33m,\u001b[0m\u001b[1;36m0\u001b[0m\u001b[1;33m)\u001b[0m\u001b[1;33m\u001b[0m\u001b[1;33m\u001b[0m\u001b[0m\n\u001b[0m\u001b[0;32m     69\u001b[0m \u001b[0mprint\u001b[0m\u001b[1;33m(\u001b[0m\u001b[0mfish_idx\u001b[0m\u001b[1;33m)\u001b[0m\u001b[1;33m\u001b[0m\u001b[1;33m\u001b[0m\u001b[0m\n\u001b[0;32m     70\u001b[0m \u001b[0mprint\u001b[0m\u001b[1;33m(\u001b[0m\u001b[0mresult\u001b[0m\u001b[1;33m)\u001b[0m\u001b[1;33m\u001b[0m\u001b[1;33m\u001b[0m\u001b[0m\n",
      "\u001b[1;32m<ipython-input-16-2a589fc6e5fe>\u001b[0m in \u001b[0;36meat_fish\u001b[1;34m(arr, fish_idx, shark_x, shark_y, total)\u001b[0m\n\u001b[0;32m     62\u001b[0m \u001b[1;33m\u001b[0m\u001b[0m\n\u001b[0;32m     63\u001b[0m     \u001b[1;32mfor\u001b[0m \u001b[0mi\u001b[0m\u001b[1;33m,\u001b[0m\u001b[0mj\u001b[0m \u001b[1;32min\u001b[0m \u001b[0mp_move\u001b[0m\u001b[1;33m:\u001b[0m\u001b[1;33m\u001b[0m\u001b[1;33m\u001b[0m\u001b[0m\n\u001b[1;32m---> 64\u001b[1;33m         \u001b[0meat_fish\u001b[0m\u001b[1;33m(\u001b[0m\u001b[0marr\u001b[0m\u001b[1;33m,\u001b[0m\u001b[0mfish_idx\u001b[0m\u001b[1;33m,\u001b[0m\u001b[0mi\u001b[0m\u001b[1;33m,\u001b[0m\u001b[0mj\u001b[0m\u001b[1;33m,\u001b[0m\u001b[0mtotal\u001b[0m\u001b[1;33m)\u001b[0m\u001b[1;33m\u001b[0m\u001b[1;33m\u001b[0m\u001b[0m\n\u001b[0m\u001b[0;32m     65\u001b[0m \u001b[1;33m\u001b[0m\u001b[0m\n\u001b[0;32m     66\u001b[0m \u001b[1;33m\u001b[0m\u001b[0m\n",
      "\u001b[1;32m<ipython-input-16-2a589fc6e5fe>\u001b[0m in \u001b[0;36meat_fish\u001b[1;34m(arr, fish_idx, shark_x, shark_y, total)\u001b[0m\n\u001b[0;32m     62\u001b[0m \u001b[1;33m\u001b[0m\u001b[0m\n\u001b[0;32m     63\u001b[0m     \u001b[1;32mfor\u001b[0m \u001b[0mi\u001b[0m\u001b[1;33m,\u001b[0m\u001b[0mj\u001b[0m \u001b[1;32min\u001b[0m \u001b[0mp_move\u001b[0m\u001b[1;33m:\u001b[0m\u001b[1;33m\u001b[0m\u001b[1;33m\u001b[0m\u001b[0m\n\u001b[1;32m---> 64\u001b[1;33m         \u001b[0meat_fish\u001b[0m\u001b[1;33m(\u001b[0m\u001b[0marr\u001b[0m\u001b[1;33m,\u001b[0m\u001b[0mfish_idx\u001b[0m\u001b[1;33m,\u001b[0m\u001b[0mi\u001b[0m\u001b[1;33m,\u001b[0m\u001b[0mj\u001b[0m\u001b[1;33m,\u001b[0m\u001b[0mtotal\u001b[0m\u001b[1;33m)\u001b[0m\u001b[1;33m\u001b[0m\u001b[1;33m\u001b[0m\u001b[0m\n\u001b[0m\u001b[0;32m     65\u001b[0m \u001b[1;33m\u001b[0m\u001b[0m\n\u001b[0;32m     66\u001b[0m \u001b[1;33m\u001b[0m\u001b[0m\n",
      "... last 2 frames repeated, from the frame below ...\n",
      "\u001b[1;32m<ipython-input-16-2a589fc6e5fe>\u001b[0m in \u001b[0;36meat_fish\u001b[1;34m(arr, fish_idx, shark_x, shark_y, total)\u001b[0m\n\u001b[0;32m     62\u001b[0m \u001b[1;33m\u001b[0m\u001b[0m\n\u001b[0;32m     63\u001b[0m     \u001b[1;32mfor\u001b[0m \u001b[0mi\u001b[0m\u001b[1;33m,\u001b[0m\u001b[0mj\u001b[0m \u001b[1;32min\u001b[0m \u001b[0mp_move\u001b[0m\u001b[1;33m:\u001b[0m\u001b[1;33m\u001b[0m\u001b[1;33m\u001b[0m\u001b[0m\n\u001b[1;32m---> 64\u001b[1;33m         \u001b[0meat_fish\u001b[0m\u001b[1;33m(\u001b[0m\u001b[0marr\u001b[0m\u001b[1;33m,\u001b[0m\u001b[0mfish_idx\u001b[0m\u001b[1;33m,\u001b[0m\u001b[0mi\u001b[0m\u001b[1;33m,\u001b[0m\u001b[0mj\u001b[0m\u001b[1;33m,\u001b[0m\u001b[0mtotal\u001b[0m\u001b[1;33m)\u001b[0m\u001b[1;33m\u001b[0m\u001b[1;33m\u001b[0m\u001b[0m\n\u001b[0m\u001b[0;32m     65\u001b[0m \u001b[1;33m\u001b[0m\u001b[0m\n\u001b[0;32m     66\u001b[0m \u001b[1;33m\u001b[0m\u001b[0m\n",
      "\u001b[1;31mRecursionError\u001b[0m: maximum recursion depth exceeded while calling a Python object"
     ]
    }
   ],
   "source": [
    "arr = [[0]*4 for _ in range(4)]\n",
    "fish_idx=[None]*16\n",
    "dx=[-1,-1,0,1,1,1,0,-1]\n",
    "dy=[0,-1,-1,-1,0,1,1,1]\n",
    "result = 0\n",
    "\n",
    "for i in range(4):\n",
    "    testcase=list(map(int, input().split()))\n",
    "    for j in range(4):\n",
    "        arr[i][j] = [testcase[2*j],testcase[2*j+1]-1]\n",
    "        fish_idx[testcase[2*j]-1]=(i,j)\n",
    "\n",
    "\n",
    "def turn_left(direction):\n",
    "    return (direction+1)%8\n",
    "\n",
    "def move_fish(arr,fish_idx, shark_x, shark_y):\n",
    "\n",
    "    for i in range(16):\n",
    "        if not fish_idx[i]:\n",
    "            continue\n",
    "        x, y = fish_idx[i]\n",
    "        direction = arr[x][y][1]\n",
    "        \n",
    "        for _ in range(8):\n",
    "            nx= x + dx[direction]\n",
    "            ny = y + dy[direction]\n",
    "\n",
    "            if nx<0 or nx>=4 or ny<0 or ny>=4  or (nx == shark_x and ny == shark_y):\n",
    "                direction=turn_left(direction)\n",
    "                continue\n",
    "\n",
    "            arr[x][y][1]=direction\n",
    "            arr[x][y], arr[nx][ny]= arr[nx][ny],arr[x][y]\n",
    "            fish_idx[i], fish_idx[arr[nx][ny][0]-1] = (nx,ny),(x,y)\n",
    "            break\n",
    "\n",
    "while True :\n",
    "    arr=deepcopy(arr)\n",
    "    \n",
    "    total += arr[shark_x][shark_y][0]\n",
    "    \n",
    "    fish_idx[arr[shark_x][shark_y][0]-1]=None\n",
    "    arr[shark_x][shark_y][0]== -1\n",
    "     \n",
    "    move_fish(arr, fish_idx, shark_x, shark_y)\n",
    "    \n",
    "    p_move = []\n",
    "    direction = arr[shark_x][shark_y][1]\n",
    "    \n",
    "    for _ in range(4):\n",
    "        shark_nx = shark_x+ dx[direction]\n",
    "        shark_ny =shark_y+ dy[direction]\n",
    "        \n",
    "        if shark_nx < 0 or shark_nx>=4 or shark_ny < 0  or shark_ny >=4 or arr[shark_nx][shark_ny][0] == -1:\n",
    "            continue\n",
    "        p_move.append((shark_nx, shark_ny))\n",
    "     \n",
    "    if not p_move :\n",
    "        result = max(result, total)\n",
    "        return \n",
    "    \n",
    "    for i,j in p_move:\n",
    "        eat_fish(arr,fish_idx,i,j,total)\n",
    "        \n",
    "\n",
    "print(result)"
   ]
  }
 ],
 "metadata": {
  "kernelspec": {
   "display_name": "Python 3",
   "language": "python",
   "name": "python3"
  },
  "language_info": {
   "codemirror_mode": {
    "name": "ipython",
    "version": 3
   },
   "file_extension": ".py",
   "mimetype": "text/x-python",
   "name": "python",
   "nbconvert_exporter": "python",
   "pygments_lexer": "ipython3",
   "version": "3.8.5"
  }
 },
 "nbformat": 4,
 "nbformat_minor": 4
}
