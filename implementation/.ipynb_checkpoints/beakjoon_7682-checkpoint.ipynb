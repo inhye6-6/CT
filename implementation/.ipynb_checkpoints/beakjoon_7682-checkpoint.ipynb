{
 "cells": [
  {
   "cell_type": "markdown",
   "metadata": {},
   "source": [
    "#### 흐름\n",
    "1. X가 항상 먼저 시작하므로 최종 상태에서는 X의 개수는 O의 개수 + 1이거나 O의 개수와 같아야 함\n",
    "2. X의 개수 = O의 개수 + 1 일 수 있는 경우<br>\n",
    "    1) X가 이겼을 때<br>\n",
    "    2) 게임판이 가득차서 무승부일 때\n",
    "3. X의 개수 = O의 개수인 경우<br>\n",
    "    1) O가 이겼을 때"
   ]
  },
  {
   "cell_type": "markdown",
   "metadata": {},
   "source": [
    "1) testcase -> 3*3 그래프 (메모리 : 29200KB 시간 : 72ms)"
   ]
  },
  {
   "cell_type": "code",
   "execution_count": 63,
   "metadata": {},
   "outputs": [
    {
     "name": "stdout",
     "output_type": "stream",
     "text": [
      "XXXOO.XXX\n",
      "invalid\n",
      "XOXOXOXOX\n",
      "valid\n",
      "end\n"
     ]
    }
   ],
   "source": [
    "def check(game,player):\n",
    "    if game[0][0]==game[0][1]==game[0][2]==player:\n",
    "        return True\n",
    "    if game[1][0]==game[1][1]==game[1][2]==player:\n",
    "        return True\n",
    "    if game[2][0]==game[2][1]==game[2][2]==player:\n",
    "        return True\n",
    "    if game[0][0]==game[1][0]==game[2][0]==player:\n",
    "        return True\n",
    "    if game[0][1]==game[1][1]==game[2][1]==player:\n",
    "        return True\n",
    "    if game[0][2]==game[1][2]==game[2][2]==player:\n",
    "        return True\n",
    "    if game[0][0]==game[1][1]==game[2][2]==player:\n",
    "        return True\n",
    "    if game[2][0]==game[1][1]==game[0][2]==player:\n",
    "        return True\n",
    "    return False\n",
    "\n",
    "while True:\n",
    "    testcase=input()\n",
    "    if testcase==\"end\":\n",
    "        break\n",
    "    \n",
    "    xcnt=testcase.count('X')\n",
    "    ocnt=testcase.count('O')\n",
    "    dcnt=testcase.count('.')\n",
    "    game = [list(testcase)[3*i:3*i+3] for i in range(3)]\n",
    "\n",
    "    if xcnt>ocnt+1 or xcnt<ocnt :\n",
    "        print(\"invalid\")\n",
    "        continue\n",
    "\n",
    "    if ocnt==xcnt:\n",
    "        if check(game,\"O\") and not check(game,\"X\"):\n",
    "            print(\"valid\")\n",
    "            continue\n",
    "    if ocnt+1==xcnt:\n",
    "        if check(game,\"X\") and not check(game,\"O\"):\n",
    "            print(\"valid\")\n",
    "            continue\n",
    "            \n",
    "        if dcnt == 0 and not check(game,\"O\"):\n",
    "            print(\"valid\")\n",
    "            continue\n",
    "            \n",
    "    print(\"invalid\")"
   ]
  },
  {
   "cell_type": "markdown",
   "metadata": {},
   "source": [
    "2) 스트링 자체 접근 (메모리 : 29200KB 시간 : 76ms)"
   ]
  },
  {
   "cell_type": "code",
   "execution_count": 64,
   "metadata": {},
   "outputs": [
    {
     "name": "stdout",
     "output_type": "stream",
     "text": [
      "XXXOO.XXX\n",
      "invalid\n",
      "end\n"
     ]
    }
   ],
   "source": [
    "def check(game,player):\n",
    "    if game[0]==game[3]==game[6]==player:\n",
    "        return True\n",
    "    if game[1]==game[4]==game[7]==player:\n",
    "        return True\n",
    "    if game[2]==game[5]==game[8]==player:\n",
    "        return True\n",
    "    if game[0]==game[1]==game[2]==player:\n",
    "        return True\n",
    "    if game[3]==game[4]==game[5]==player:\n",
    "        return True\n",
    "    if game[6]==game[7]==game[8]==player:\n",
    "        return True\n",
    "    if game[0]==game[4]==game[8]==player:\n",
    "        return True\n",
    "    if game[2]==game[4]==game[6]==player:\n",
    "        return True\n",
    "    return False\n",
    "\n",
    "while True:\n",
    "    game=input()\n",
    "    if game==\"end\":\n",
    "        break\n",
    "    \n",
    "    xcnt=game.count('X')\n",
    "    ocnt=game.count('O')\n",
    "    dcnt=game.count('.')\n",
    "\n",
    "    if xcnt>ocnt+1 or xcnt<ocnt :\n",
    "        print(\"invalid\")\n",
    "        continue\n",
    "\n",
    "    if ocnt==xcnt:\n",
    "        if check(game,\"O\") and not check(game,\"X\"):\n",
    "            print(\"valid\")\n",
    "            continue\n",
    "    if ocnt+1==xcnt:\n",
    "        if check(game,\"X\") and not check(game,\"O\"):\n",
    "            print(\"valid\")\n",
    "            continue\n",
    "            \n",
    "        if dcnt == 0 and not check(game,\"O\"):\n",
    "            print(\"valid\")\n",
    "            continue\n",
    "            \n",
    "    print(\"invalid\")"
   ]
  }
 ],
 "metadata": {
  "kernelspec": {
   "display_name": "Python 3",
   "language": "python",
   "name": "python3"
  },
  "language_info": {
   "codemirror_mode": {
    "name": "ipython",
    "version": 3
   },
   "file_extension": ".py",
   "mimetype": "text/x-python",
   "name": "python",
   "nbconvert_exporter": "python",
   "pygments_lexer": "ipython3",
   "version": "3.8.5"
  }
 },
 "nbformat": 4,
 "nbformat_minor": 4
}
