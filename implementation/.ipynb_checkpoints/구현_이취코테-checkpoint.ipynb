{
 "cells": [
  {
   "cell_type": "markdown",
   "metadata": {},
   "source": [
    "#### #1 상하좌우"
   ]
  },
  {
   "cell_type": "markdown",
   "metadata": {},
   "source": [
    "**문제 설명**<br>\n",
    "1) 지도 <br>\n",
    "NXN 크기 정사각형 공간\n",
    "1x1로 나누어져있음, (1,1)~(N,N)으로 표현\n",
    "\n",
    "2) 이동계획서 <br>\n",
    "U,D,L,R : 순서대로 상하좌우 한칸 이동<br>\n",
    "공간 밖으로 나간다면 무시(RRRUDD일때 U는 무시)\n"
   ]
  },
  {
   "cell_type": "code",
   "execution_count": 15,
   "metadata": {},
   "outputs": [
    {
     "name": "stdout",
     "output_type": "stream",
     "text": [
      "5\n",
      "R R R U D D\n",
      "3 4\n"
     ]
    }
   ],
   "source": [
    "n = int(input())\n",
    "plan = input().split()\n",
    "\n",
    "x,y= 1,1\n",
    "\n",
    "dx = [-1,1,0,0]\n",
    "dy = [0,0,-1,1]\n",
    "move_type = ['U','D','L','R']\n",
    "\n",
    "for move in plan:\n",
    "    for i in range(4):\n",
    "        if move in move_type[i]:\n",
    "            nx = x + dx[i]\n",
    "            ny = y + dy[i]\n",
    "    if nx < 1 or nx > n or ny < 1 or ny > n :\n",
    "        continue\n",
    "    \n",
    "    x , y = nx, ny\n",
    "    \n",
    "print(x,y)"
   ]
  },
  {
   "cell_type": "markdown",
   "metadata": {},
   "source": [
    "#### #2 시각"
   ]
  },
  {
   "cell_type": "markdown",
   "metadata": {},
   "source": [
    "**문제 설명**<br>\n",
    "\n",
    "00시 00분 00초 ~ N시 59분 59초 까지의 모든 시각 중 3이 하나라도 포함되는 모든 경우의 수 구하기"
   ]
  },
  {
   "cell_type": "markdown",
   "metadata": {},
   "source": [
    "* 일반적으로 탐색을 해야할 경우 전체 데이터 수가 100만개 이하라면 완전 탐색을 사용하는게 적절함"
   ]
  },
  {
   "cell_type": "code",
   "execution_count": 17,
   "metadata": {},
   "outputs": [
    {
     "name": "stdout",
     "output_type": "stream",
     "text": [
      "5\n",
      "11475\n"
     ]
    }
   ],
   "source": [
    "n = int(input())\n",
    "count = 0\n",
    "for h in range(n+1):\n",
    "    for m in range(60):\n",
    "        for s in range(60):\n",
    "            if '3' in str(h) + str(m) + str(s):\n",
    "                count+=1\n",
    "                \n",
    "print(count)"
   ]
  },
  {
   "cell_type": "code",
   "execution_count": 18,
   "metadata": {},
   "outputs": [],
   "source": [
    "def solution():\n",
    "    n = int(input())\n",
    "    find = input()\n",
    "    count=0\n",
    "    \n",
    "    for h in range(n+1):\n",
    "        for m in range(60):\n",
    "            for s in range(60):\n",
    "                if find in str(h)+str(m)+str(s):\n",
    "                    count +=1\n",
    "                    \n",
    "    print(count)"
   ]
  },
  {
   "cell_type": "markdown",
   "metadata": {},
   "source": [
    "### 예제"
   ]
  },
  {
   "cell_type": "markdown",
   "metadata": {},
   "source": [
    "### #1 왕실의 나이트"
   ]
  },
  {
   "cell_type": "markdown",
   "metadata": {},
   "source": [
    "**문제 설명**<br>\n",
    "\n",
    "나이트가 정원에서 이동 할 수 있는 경우의 수를 구하여라.<br>\n",
    "1. 정원<br>\n",
    "정원은 8X8 평면이다. <br>\n",
    "정원의 나이트 위치는 a1~h8으로 표현한다.<br>\n",
    "2. 나이트<br>\n",
    "나이트는 이동시 L자 형태로만 이동 가능(수평2,수직1/수직2,수평1) 하고 정원 밖으로 나갈 수 없다.<br>"
   ]
  },
  {
   "cell_type": "code",
   "execution_count": 52,
   "metadata": {},
   "outputs": [
    {
     "name": "stdout",
     "output_type": "stream",
     "text": [
      "a1\n",
      "2\n"
     ]
    }
   ],
   "source": [
    "from string import ascii_lowercase\n",
    "\n",
    "idx=input()\n",
    "row=ascii_lowercase[:8]\n",
    "\n",
    "x = row.find(idx[0])+1\n",
    "y = int(idx[1:])\n",
    "\n",
    "dx=[2,2,-2,-2,1,-1,1,-1]\n",
    "dy=[1,-1,1,-1,2,2,-2,-2]\n",
    "\n",
    "count = 0\n",
    "for i in range(len(dx)):\n",
    "    nx = x+dx[i]\n",
    "    ny = y+dy[i]\n",
    "    if nx<1 or nx>8 or ny<1 or ny>8:\n",
    "        continue\n",
    "    count+=1\n",
    "print(count)"
   ]
  },
  {
   "cell_type": "markdown",
   "metadata": {},
   "source": [
    "**내가 따로 추가한거** <br>\n",
    "\n",
    "정원의 크기= n 으로 주어짐(nxn) <br>\n",
    "정원 나이트의 위치에서 input 값이 a1=1a로 둘 다 input값으로 들어갈수 있음"
   ]
  },
  {
   "cell_type": "code",
   "execution_count": 68,
   "metadata": {},
   "outputs": [],
   "source": [
    "from string import ascii_lowercase\n",
    "\n",
    "def solution(n,idx):\n",
    "    row=ascii_lowercase[:n]\n",
    "\n",
    "    try:\n",
    "        x = row.find(idx[0])+1\n",
    "        y = int(idx[1:])\n",
    "    except:\n",
    "        x = row.find(idx[-1])+1\n",
    "        y = int(idx[:-1])\n",
    "\n",
    "    dx=[2,2,-2,-2,1,-1,1,-1]\n",
    "    dy=[1,-1,1,-1,2,2,-2,-2]\n",
    "\n",
    "    count = 0\n",
    "    for i in range(len(dx)):\n",
    "        nx = x+dx[i]\n",
    "        ny = y+dy[i]\n",
    "        if nx<1 or nx>n or ny<1 or ny>n:\n",
    "            continue\n",
    "        count+=1\n",
    "    print(count)"
   ]
  },
  {
   "cell_type": "code",
   "execution_count": 69,
   "metadata": {},
   "outputs": [
    {
     "name": "stdout",
     "output_type": "stream",
     "text": [
      "2\n"
     ]
    }
   ],
   "source": [
    "n=8\n",
    "idx='a1'\n",
    "solution(n,idx)"
   ]
  },
  {
   "cell_type": "markdown",
   "metadata": {},
   "source": [
    "### #2 게임 개발"
   ]
  },
  {
   "cell_type": "markdown",
   "metadata": {},
   "source": [
    "**문제 설명**<br>\n",
    "\n",
    "1. 게임 맵<br>\n",
    "맵은 nXm 크기의 직사각형 <br>\n",
    "각각의 칸은 육지 또는 바다( 육지 0 바다 1) <br> \n",
    "맵은 (A,B)로 나타낼 수 있음 <br>\n",
    "- A : 북쪽으로 부터 떨어진 칸 개수-> 걍 열<br>\n",
    "- B : 서쪽으로 부터 떨어진 칸 개수-> 행<br>\n",
    "\n",
    "2. 게임 캐릭터<br>\n",
    "캐릭터는 동서남북 중 하나를 바라봄<br>\n",
    "상하좌우로 움직이고 바다는 못감<br>\n",
    "\n",
    "3. 매뉴얼<br>\n",
    "1) 현재 위치에서 현재 방햐을 기준으로 왼쪽 방향부터 차례대로 갈 곳을 정함<br>\n",
    "2) 바로 왼쪽에 안가본 칸이 존재하면 왼쪽으로 회전한 다음 한칸 전진<br>왼쪽에 가보지 않은 칸이 없다면 왼쪽 방향으로 회전만 수행하고 1단계로 돌아감 <br>\n",
    "3) 만약 네방향 모두 이미 가본 칸이라면 방향 유지한채로 뒤로 한칸 갔다가 1단계로 돌아감(바다면 움직임 멈춤)\n"
   ]
  },
  {
   "cell_type": "code",
   "execution_count": 79,
   "metadata": {},
   "outputs": [
    {
     "name": "stdout",
     "output_type": "stream",
     "text": [
      "4 4\n",
      "1 1 0\n",
      "1 1 1 1\n",
      "1 0 0 1\n",
      "1 1 0 1\n",
      "1 1 1 1\n"
     ]
    }
   ],
   "source": [
    "n,m = map(int,input().split()) # 맵크기\n",
    "x,y, d = map(int, input().split()) # A B d(위치: 0북 1동 2남 3서)\n",
    "visited=[[0]*m for _ in range(n)]\n",
    "maplst = [ list(map(int, input().split())) for _ in range(n)]"
   ]
  },
  {
   "cell_type": "code",
   "execution_count": 83,
   "metadata": {},
   "outputs": [
    {
     "name": "stdout",
     "output_type": "stream",
     "text": [
      "4 4 \n",
      "1 1 0\n",
      "1 1 1 1\n",
      "1 0 0 1\n",
      "1 1 0 1\n",
      "1 1 1 1 \n",
      "3\n"
     ]
    }
   ],
   "source": [
    "n,m = map(int,input().split()) # 맵크기\n",
    "x,y, d = map(int, input().split()) # A B d(위치: 0북 1동 2남 3서)\n",
    "visited=[[0]*m for _ in range(n)]\n",
    "graph = [ list(map(int, input().split())) for _ in range(n)]\n",
    "\n",
    "# 기본 위치에서 (0북 1동 2남 3서) \n",
    "dx=[-1,0,1,0]\n",
    "dy=[0,1,0,-1]\n",
    "\n",
    "# 왼쪽 회전 \n",
    "def turn_left():\n",
    "    global d\n",
    "    d -=1\n",
    "    if d == -1 :\n",
    "        d = 3\n",
    "    \n",
    "count = 1\n",
    "turn_time = 0\n",
    "while True :\n",
    "    turn_left()\n",
    "    nx = x+dx[d]\n",
    "    ny = y+dy[d]\n",
    "    visited[x][y]=1\n",
    "   \n",
    "    if nx<0 or nx>n or ny<0 or ny>m:\n",
    "        continue\n",
    "    if visited[nx][ny]==0 and graph[nx][ny]==0 :\n",
    "        #visited[nx][ny]=1\n",
    "        x = nx\n",
    "        y = ny\n",
    "        turn_time= 0\n",
    "        count +=1\n",
    "        continue\n",
    "    \n",
    "    else : turn_time +=1\n",
    "    \n",
    "    if turn_time == 4 :\n",
    "        nx = x-dx[d]\n",
    "        ny = y-dy[d]\n",
    "        if graph[nx][ny] == 0 :\n",
    "            x=nx\n",
    "            y=ny\n",
    "        else : \n",
    "            break\n",
    "        turn_time = 0\n",
    "print(count)"
   ]
  },
  {
   "cell_type": "code",
   "execution_count": 86,
   "metadata": {
    "scrolled": true
   },
   "outputs": [
    {
     "name": "stdout",
     "output_type": "stream",
     "text": [
      "4 4 \n",
      "1 1 0\n",
      "1 1 1 1\n",
      "1 0 0 1\n",
      "1 1 0 1\n",
      "1 1 1 1\n",
      "3\n"
     ]
    }
   ],
   "source": [
    "def solution():\n",
    "    n,m = map(int,input().split()) # 맵크기\n",
    "    x,y,d = map(int, input().split()) # A B d(위치: 0북 1동 2남 3서)\n",
    "    visited=[[0]*m for _ in range(n)]\n",
    "    graph = [ list(map(int, input().split())) for _ in range(n)]\n",
    "    \n",
    "    #북동남서\n",
    "    dx = [-1,0,1,0]\n",
    "    dy = [0,1,0,-1]\n",
    "    \n",
    "    # 왼쪽 회전\n",
    "    def turn_left():\n",
    "        nonlocal d\n",
    "        d -= 1\n",
    "        if d == -1:\n",
    "            d = 3\n",
    "    \n",
    "    count=1\n",
    "    turn_time=0\n",
    "    \n",
    "    while True :\n",
    "        visited[x][y]=1\n",
    "        turn_left()\n",
    "        nx = x + dx[d]\n",
    "        ny = y + dy[d]\n",
    "        \n",
    "        if graph[nx][ny]== 0 and visited[nx][ny]==0 :\n",
    "            x = nx\n",
    "            y = ny\n",
    "            count +=1\n",
    "            turn_time =0\n",
    "            continue\n",
    "        \n",
    "        else : turn_time += 1\n",
    "        \n",
    "        if turn_time == 4 :\n",
    "            nx = x - dx[d]\n",
    "            ny = y - dy[d]\n",
    "            \n",
    "            if graph[nx][ny] == 0:\n",
    "                x = nx\n",
    "                y = ny\n",
    "            else : break\n",
    "            \n",
    "            turn_time = 0\n",
    "    \n",
    "    print(count)\n",
    "\n",
    "\n",
    "solution()"
   ]
  }
 ],
 "metadata": {
  "kernelspec": {
   "display_name": "Python 3",
   "language": "python",
   "name": "python3"
  },
  "language_info": {
   "codemirror_mode": {
    "name": "ipython",
    "version": 3
   },
   "file_extension": ".py",
   "mimetype": "text/x-python",
   "name": "python",
   "nbconvert_exporter": "python",
   "pygments_lexer": "ipython3",
   "version": "3.8.5"
  }
 },
 "nbformat": 4,
 "nbformat_minor": 4
}
