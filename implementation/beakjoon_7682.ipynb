{
 "cells": [
  {
   "cell_type": "code",
   "execution_count": 1,
   "metadata": {
    "scrolled": true
   },
   "outputs": [
    {
     "name": "stdout",
     "output_type": "stream",
     "text": [
      "XXXOO.XXX\n"
     ]
    }
   ],
   "source": [
    "a=input()"
   ]
  },
  {
   "cell_type": "code",
   "execution_count": 63,
   "metadata": {},
   "outputs": [],
   "source": [
    "def invalid():\n",
    "    if x_count+ o_count == 9 and x_count != o_count + 1:\n",
    "        return True\n",
    "    if x_count+ o_count == 6 and o_count != 3 :\n",
    "        return True\n",
    "    if x_count+ o_count == 5 and o_count != 2 :\n",
    "        return True\n",
    "\n",
    "while True:\n",
    "    testcase = input()\n",
    "    if testcase == 'end':\n",
    "        break\n",
    "    \n",
    "    x_count=testcase.count('X')\n",
    "    o_count=testcase.count('O')\n",
    "    dot_count=testcase.count('.')\n",
    "    \n",
    "    if (x_count+ o_count == 9 and x_count != o_count + 1) or x_count not in (o_count, o_count + 1) :\n",
    "        print('invalid')\n",
    "        continue\n",
    "    \n",
    "    grape = [list(testcase)[3*i:3*i+3] for i in range(3)]\n",
    "    \n",
    "    for i in range(3) : \n",
    "        if grape[i][0]==grape[i][1]==grape[i][2]!='.':\n",
    "            count+=1\n",
    "        if grape[0][i]==grape[1][i]==grape[2][i]!='.':\n",
    "            count+=1\n",
    "\n",
    "    if grape[0][0]==grape[1][1]==grape[2][2]!='.':\n",
    "        count+=1\n",
    "\n",
    "    if grape[2][0]==grape[1][1]==grape[0][2]!='.':\n",
    "        count+=1\n",
    "    \n",
    "    if count ==1:\n",
    "        print('valid')\n",
    "    else : print('invalid')\n",
    "    "
   ]
  },
  {
   "cell_type": "code",
   "execution_count": null,
   "metadata": {},
   "outputs": [],
   "source": []
  },
  {
   "cell_type": "code",
   "execution_count": null,
   "metadata": {},
   "outputs": [],
   "source": []
  },
  {
   "cell_type": "code",
   "execution_count": null,
   "metadata": {},
   "outputs": [],
   "source": []
  }
 ],
 "metadata": {
  "kernelspec": {
   "display_name": "Python 3",
   "language": "python",
   "name": "python3"
  },
  "language_info": {
   "codemirror_mode": {
    "name": "ipython",
    "version": 3
   },
   "file_extension": ".py",
   "mimetype": "text/x-python",
   "name": "python",
   "nbconvert_exporter": "python",
   "pygments_lexer": "ipython3",
   "version": "3.8.5"
  }
 },
 "nbformat": 4,
 "nbformat_minor": 4
}
