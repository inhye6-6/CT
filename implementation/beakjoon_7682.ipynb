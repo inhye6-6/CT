{
 "cells": [
  {
   "cell_type": "markdown",
   "metadata": {},
   "source": [
    "####\n",
    "1. "
   ]
  },
  {
   "cell_type": "code",
   "execution_count": 14,
   "metadata": {
    "collapsed": true
   },
   "outputs": [
    {
     "name": "stdout",
     "output_type": "stream",
     "text": [
      "xxxoxooox\n",
      "invalid\n",
      "XXXOXOXOX\n",
      "invalid\n",
      "XXXOXOOOX\n",
      "valid\n",
      "end\n"
     ]
    }
   ],
   "source": [
    "def check(game,player):\n",
    "    if game[0][0]==game[0][1]==game[0][2]==player:\n",
    "        return True\n",
    "    if game[1][0]==game[1][1]==game[1][2]==player:\n",
    "        return True\n",
    "    if game[2][0]==game[2][1]==game[2][2]==player:\n",
    "        return True\n",
    "    if game[0][0]==game[1][0]==game[2][0]==player:\n",
    "        return True\n",
    "    if game[0][1]==game[1][1]==game[2][1]==player:\n",
    "        return True\n",
    "    if game[0][2]==game[1][2]==game[2][2]==player:\n",
    "        return True\n",
    "    if game[0][0]==game[1][1]==game[2][2]==player:\n",
    "        return True\n",
    "    if game[2][0]==game[1][1]==game[0][2]==player:\n",
    "        return True\n",
    "    return False\n",
    "\n",
    "while True:\n",
    "    testcase=input()\n",
    "    if testcase==\"end\":\n",
    "        break\n",
    "    game = [list(testcase)[3*i:3*i+3] for i in range(3)]\n",
    "    xcnt=testcase.count('X')\n",
    "    ocnt=testcase.count('O')\n",
    "    dcnt=testcase.count('.')\n",
    "\n",
    "    if xcnt>ocnt+1 or xcnt<ocnt :\n",
    "        print(\"invalid\")\n",
    "        continue\n",
    "\n",
    "    if ocnt==xcnt:\n",
    "        if check(game,\"O\") and not check(game,\"X\"):\n",
    "            print(\"valid\")\n",
    "            continue\n",
    "    if ocnt+1==xcnt:\n",
    "        if check(game,\"X\") and not check(game,\"O\"):\n",
    "            print(\"valid\")\n",
    "            continue\n",
    "            \n",
    "        if dcnt == 0 and not check(game,\"O\"):\n",
    "            print(\"valid\")\n",
    "            continue\n",
    "            \n",
    "    print(\"invalid\")"
   ]
  }
 ],
 "metadata": {
  "kernelspec": {
   "display_name": "Python 3",
   "language": "python",
   "name": "python3"
  },
  "language_info": {
   "codemirror_mode": {
    "name": "ipython",
    "version": 3
   },
   "file_extension": ".py",
   "mimetype": "text/x-python",
   "name": "python",
   "nbconvert_exporter": "python",
   "pygments_lexer": "ipython3",
   "version": "3.8.5"
  }
 },
 "nbformat": 4,
 "nbformat_minor": 4
}
