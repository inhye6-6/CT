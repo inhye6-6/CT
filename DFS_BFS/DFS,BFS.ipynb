{
 "cells": [
  {
   "cell_type": "markdown",
   "metadata": {},
   "source": [
    "# Ch 5 DFS/BFS"
   ]
  },
  {
   "cell_type": "markdown",
   "metadata": {},
   "source": [
    "## 기본 개념 정리"
   ]
  },
  {
   "cell_type": "markdown",
   "metadata": {},
   "source": [
    "### Stack & Queue"
   ]
  },
  {
   "cell_type": "markdown",
   "metadata": {},
   "source": [
    "핵심 함수<br>\n",
    "- pop() : 데이터 삭제 <br>\n",
    "- push() : 데이터 삽입<br>\n",
    "\n",
    "\n",
    "overflow : 수용할 수 있는 데이터의 크기를 가득찬 상태에서 push를 시도할 때 <br>\n",
    "underflow : 비어있는데 pop 시도할 때"
   ]
  },
  {
   "cell_type": "markdown",
   "metadata": {},
   "source": [
    "**1. Stack** <br>\n",
    "\n",
    "- 한 쪽 끝에서만 자료를 넣고 빼는 작업이 이루어지는 자료구조 <br>\n",
    "- LIFO (Last In First Out) 방식 or FILO(First In Last Out) 으로 동작 <br> \n",
    "- 스택의 맨 위 요소, top 에만 접근이 가능하기 때문에 top 이 아닌 위치의 데이터에 대한 접근, 삽입, 삭제 모두 불가능<br>\n",
    "- Python : 스택에 stack.append로 top 에 새로운 데이터 추가 , stack.pop으로 가장 최근에 삽입된 데이터 삭제\n",
    "- **장단점**:\n",
    "<br>\n",
    "top 을 통해 접근하기 때문에 데이터 접근, 삽입, 삭제가 빠르다<br>\n",
    "top 위치 이외의 데이터에 접근할 수 없기 때문에 탐색이 불가능하다. 탐색하려면 모든 데이터를 꺼내면서 진행해야 한다."
   ]
  },
  {
   "cell_type": "markdown",
   "metadata": {},
   "source": [
    "**2. Queue**\n",
    "-  큐는 양쪽 끝에서 데이터의 삽입과 삭제가 각각 이루어지는 자료구조\n",
    "- FIFO (First In First Out) 로 동작\n",
    "- linear queue, circular queue 두가지 존재\n",
    "- Python : colletions 모듈의 deque 자료구조 사용 *deque 자료구조는 따로 정리 하기*\n",
    "- **장단점 :**<br>\n",
    "데이터 접근, 삽입, 삭제가 빠름 <br>\n",
    "스택과 마찬가지로 중간에 위치한 데이터에 대한 접근 불가능\n"
   ]
  },
  {
   "cell_type": "markdown",
   "metadata": {},
   "source": [
    "### Graph"
   ]
  },
  {
   "cell_type": "markdown",
   "metadata": {},
   "source": [
    "**1. 인접 행렬 (Adj matrix)** <br>\n",
    "- 메모리 많이 차지(행렬의 모든 관계를 다 저장하기 때문), 빠름"
   ]
  },
  {
   "cell_type": "code",
   "execution_count": 4,
   "metadata": {
    "scrolled": true
   },
   "outputs": [
    {
     "data": {
      "text/plain": [
       "[[0, 7, 5], [7, 0, 9999999], [5, 9999999, 0]]"
      ]
     },
     "execution_count": 4,
     "metadata": {},
     "output_type": "execute_result"
    }
   ],
   "source": [
    "INF=9999999\n",
    "graph=[\n",
    "    [0,7,5],   \n",
    "    [7,0,INF],\n",
    "    [5,INF,0]\n",
    "]\n",
    "graph"
   ]
  },
  {
   "cell_type": "markdown",
   "metadata": {},
   "source": [
    "**2. 인접 리스트 (Adj list)**<br>\n",
    "- 메모리 덜 차지, 느림(연결된 데이터를 하나하나 확인해야하기 때문)"
   ]
  },
  {
   "cell_type": "code",
   "execution_count": 5,
   "metadata": {},
   "outputs": [
    {
     "data": {
      "text/plain": [
       "[[(1, 7), (2, 5)], [(0, 7)], [(0, 5)]]"
      ]
     },
     "execution_count": 5,
     "metadata": {},
     "output_type": "execute_result"
    }
   ],
   "source": [
    "graph=[[] for _ in range(3)]\n",
    "\n",
    "graph[0].append((1,7))\n",
    "graph[0].append((2,5))\n",
    "\n",
    "graph[1].append((0,7))\n",
    "\n",
    "graph[2].append((0,5))\n",
    "\n",
    "graph"
   ]
  },
  {
   "cell_type": "markdown",
   "metadata": {},
   "source": [
    "### DFS(Depth First Search)"
   ]
  },
  {
   "cell_type": "markdown",
   "metadata": {},
   "source": [
    "먼 노드부터 탐색<br> \n",
    "Stack 사용 (실제로는 스택 사용 X, 재귀함수로 구현)<br>\n",
    "시간복잡도 : O(N) <br>"
   ]
  },
  {
   "cell_type": "markdown",
   "metadata": {},
   "source": [
    "1. 탐색시작노드를 스택에 삽입하고 방문처리\n",
    "2. 스택 최상단 노드에 방문하지 않은 인접 노드가 있으면 그 노드를 스택에 넣고 방문처리<br> 방문하지 않은 인접노드가 없으면 스택에서 최상단 노드 꺼냄\n",
    "3. 2번 반복"
   ]
  },
  {
   "cell_type": "code",
   "execution_count": 11,
   "metadata": {},
   "outputs": [
    {
     "name": "stdout",
     "output_type": "stream",
     "text": [
      "1 2 7 6 8 3 4 5 "
     ]
    }
   ],
   "source": [
    "def dfs(graph, v, visited) :\n",
    "    \n",
    "    #현재 노드 방문처리\n",
    "    visited[v]=True\n",
    "    print(v, end = \" \")\n",
    "    \n",
    "    #현재 노드와 연결된 다른 노드 리쿼젼\n",
    "    for i in graph[v]:\n",
    "        if not visited[i]:\n",
    "            dfs(graph, i, visited)\n",
    "\n",
    "# graph, visited                   \n",
    "graph=[\n",
    "    [],\n",
    "    [2,3,8],\n",
    "    [1,7],\n",
    "    [1,4,5],\n",
    "    [3,5],\n",
    "    [3,4],\n",
    "    [7],\n",
    "    [2,6,8],\n",
    "    [1,7]\n",
    "]\n",
    "\n",
    "visited=[False]*9\n",
    "\n",
    "dfs(graph,1,visited)"
   ]
  },
  {
   "cell_type": "markdown",
   "metadata": {},
   "source": [
    "### BFS(Breadth First Search)"
   ]
  },
  {
   "cell_type": "markdown",
   "metadata": {},
   "source": [
    "가까운 노드부터 탐색<br> \n",
    "Queue 사용 (python: deque 라이브러리 사용)<br>\n",
    "시간복잡도 : O(N) <br>\n",
    "일반적으로 DFS보다 빠름"
   ]
  },
  {
   "cell_type": "markdown",
   "metadata": {},
   "source": [
    "1. 탐색시작 노드를 큐에 삽입하고 방문처리\n",
    "2. 큐에서 노드를 꺼내 해당 노드의 인접 노드 중 방문하지 않은 노드를 모두 큐에 삽입\n",
    "3. 2번 반복"
   ]
  },
  {
   "cell_type": "code",
   "execution_count": 20,
   "metadata": {},
   "outputs": [
    {
     "name": "stdout",
     "output_type": "stream",
     "text": [
      "1 2 3 8 7 4 5 6 "
     ]
    }
   ],
   "source": [
    "from collections import deque\n",
    "\n",
    "#BFS \n",
    "def bfs(graph,start,visited):\n",
    "    # queue \n",
    "    queue = deque([start])\n",
    "    \n",
    "    # 방문 처리\n",
    "    visited[start]=True\n",
    "    \n",
    "    # queue가 빌때 까지 반복\n",
    "    while queue:\n",
    "        \n",
    "        # queue에서 원소 뽑아 출력\n",
    "        v = queue.popleft()\n",
    "        print(v,end=\" \")\n",
    "        \n",
    "        # 원소와 연결된 아직 방문하지 않은 원소들 queue에 삽입\n",
    "        for i in graph[v]:\n",
    "            if not visited[i]:\n",
    "                queue.append(i)\n",
    "                visited[i]=True\n",
    "\n",
    "# graph, visited                   \n",
    "graph=[\n",
    "    [],\n",
    "    [2,3,8],\n",
    "    [1,7],\n",
    "    [1,4,5],\n",
    "    [3,5],\n",
    "    [3,4],\n",
    "    [7],\n",
    "    [2,6,8],\n",
    "    [1,7]\n",
    "]\n",
    "\n",
    "visited=[False]*9                \n",
    "                \n",
    "bfs(graph,1,visited)"
   ]
  },
  {
   "cell_type": "markdown",
   "metadata": {},
   "source": [
    "## 예제"
   ]
  },
  {
   "cell_type": "markdown",
   "metadata": {},
   "source": [
    "### #1 음료수 얼려 먹기"
   ]
  },
  {
   "cell_type": "markdown",
   "metadata": {},
   "source": [
    "1. 주변 상하좌우를 살펴본 후 주변 점 중에 값이 0이면서 아직 방문 안한 점이 있으면 방문\n",
    "2. 방문한 점에서 다시 상하좌우 살펴보면서 진행"
   ]
  },
  {
   "cell_type": "code",
   "execution_count": 74,
   "metadata": {
    "scrolled": true
   },
   "outputs": [],
   "source": [
    "def dfs(graph:list,x:int,y:int):\n",
    "    # 범위 넘어가면 false\n",
    "    if x < 0 or x > =n or y < 0 or y >= m :\n",
    "        return False\n",
    "    # 노드가 0 일때(방문 X일 때)\n",
    "    if graph[x][y] == 0 :\n",
    "        graph[x][y] = 1 # 이거 1로 바꾸고 (방문했다고 바꾸공)\n",
    "        \n",
    "        # 상하좌우 확인\n",
    "        dfs(graph,x-1,y)\n",
    "        dfs(graph,x,y-1)\n",
    "        dfs(graph,x+1,y)\n",
    "        dfs(graph,x,y+1)\n",
    "        return True\n",
    "    # 방문했으면 False\n",
    "    return False"
   ]
  },
  {
   "cell_type": "code",
   "execution_count": 75,
   "metadata": {},
   "outputs": [],
   "source": [
    "def solution():\n",
    "    n, m = map(int,input().split())\n",
    "    graph=[list(map(int,input())) for i in range(n)]\n",
    "    \n",
    "    # 0인 노드에 음료 채우기\n",
    "    result = 0\n",
    "    for i in range(n):\n",
    "        for j in range(m):\n",
    "            if dfs(graph,i,j) == True:\n",
    "                result +=1\n",
    "\n",
    "    print(result)"
   ]
  },
  {
   "cell_type": "code",
   "execution_count": 76,
   "metadata": {
    "scrolled": true
   },
   "outputs": [
    {
     "name": "stdout",
     "output_type": "stream",
     "text": [
      "4 5\n",
      "00110\n",
      "00011\n",
      "11111\n",
      "00000\n",
      "3\n"
     ]
    }
   ],
   "source": [
    "solution()"
   ]
  },
  {
   "cell_type": "markdown",
   "metadata": {},
   "source": [
    "### #2 미로 탈출"
   ]
  },
  {
   "cell_type": "markdown",
   "metadata": {},
   "source": [
    "bfs는 가까운 노드부터 차례로 탐색하기 때문에 그래프에 1을 더함"
   ]
  },
  {
   "cell_type": "code",
   "execution_count": 129,
   "metadata": {},
   "outputs": [],
   "source": [
    "from collections import deque\n",
    "\n",
    "\n",
    "def bfs(graph,x,y):\n",
    "    \n",
    "    dx = [-1,1,0,0]\n",
    "    dy = [0,0,-1,1]\n",
    "    \n",
    "    queue = deque()\n",
    "    queue.append((x,y))\n",
    "    \n",
    "    while queue :\n",
    "        x, y = queue.popleft()\n",
    "        for i in range(4) :\n",
    "            nx = x + dx[i]\n",
    "            ny = y + dy[i]\n",
    "            \n",
    "            if nx >= n or nx < 0 or ny >= m or ny < 0 :\n",
    "                continue\n",
    "            \n",
    "            if graph[nx][ny] == 0 :\n",
    "                continue\n",
    "                \n",
    "            if graph[nx][ny] == 1 :\n",
    "                graph[nx][ny]= graph[x][y]+1\n",
    "                queue.append((nx,ny))\n",
    "                \n",
    "    return graph[n-1][m-1]    "
   ]
  },
  {
   "cell_type": "code",
   "execution_count": 127,
   "metadata": {},
   "outputs": [],
   "source": [
    "def solution():\n",
    "    n, m = map(int,input().split())\n",
    "    graph=[list(map(int,input())) for i in range(n)]\n",
    "    \n",
    "    result = bfs(graph,0,0)\n",
    "    \n",
    "    print(result)"
   ]
  },
  {
   "cell_type": "code",
   "execution_count": 130,
   "metadata": {
    "scrolled": false
   },
   "outputs": [
    {
     "name": "stdout",
     "output_type": "stream",
     "text": [
      "5 6\n",
      "101010\n",
      "111111\n",
      "000001\n",
      "111111\n",
      "111111\n",
      "10\n"
     ]
    }
   ],
   "source": [
    "solution()"
   ]
  },
  {
   "cell_type": "code",
   "execution_count": 132,
   "metadata": {},
   "outputs": [
    {
     "data": {
      "text/plain": [
       "1"
      ]
     },
     "execution_count": 132,
     "metadata": {},
     "output_type": "execute_result"
    }
   ],
   "source": [
    "graph[1][0]"
   ]
  }
 ],
 "metadata": {
  "kernelspec": {
   "display_name": "Python 3",
   "language": "python",
   "name": "python3"
  },
  "language_info": {
   "codemirror_mode": {
    "name": "ipython",
    "version": 3
   },
   "file_extension": ".py",
   "mimetype": "text/x-python",
   "name": "python",
   "nbconvert_exporter": "python",
   "pygments_lexer": "ipython3",
   "version": "3.8.5"
  }
 },
 "nbformat": 4,
 "nbformat_minor": 4
}
