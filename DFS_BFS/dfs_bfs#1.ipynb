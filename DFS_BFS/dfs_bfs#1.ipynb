{
 "cells": [
  {
   "cell_type": "code",
   "execution_count": 23,
   "metadata": {},
   "outputs": [],
   "source": [
    "numbers=[1,1,1,1,1]\n",
    "target=3\n",
    "n=5"
   ]
  },
  {
   "cell_type": "code",
   "execution_count": 19,
   "metadata": {},
   "outputs": [],
   "source": [
    "def dfs(graph,n,target,i,j):\n",
    "    result = 0\n",
    "    if i < 0 or i >= 2 or j < 0 or j >= n :\n",
    "        return False\n",
    "    \n",
    "    if graph[i][j] != 0 :\n",
    "        result+=graph[i][j]\n",
    "        graph[i][j] = 0\n",
    "        print(result)\n",
    "        dfs(graph,n,target,i,j+1)\n",
    "        print(result)\n",
    "        dfs(graph,n,target,i+1,j+1)\n",
    "        print(result)\n",
    "        dfs(graph,n,target,i-1,j+1)\n",
    "        print(result)\n",
    "        if target + result == 0 :\n",
    "            return True\n",
    "        return False\n",
    "    return False\n",
    "    \n",
    "def solution(numbers, target):\n",
    "    graph=[numbers,[num*(-1) for num in numbers]]\n",
    "    n = len(numbers)\n",
    "    answer = 0\n",
    "    \n",
    "    for i in range(2):\n",
    "        for j in range(n):\n",
    "            if dfs(graph,n,target,i,j):\n",
    "                answer+=1\n",
    "    \n",
    "    return answer"
   ]
  },
  {
   "cell_type": "code",
   "execution_count": 24,
   "metadata": {},
   "outputs": [
    {
     "name": "stdout",
     "output_type": "stream",
     "text": [
      "-1\n",
      "-1\n",
      "-1\n",
      "-1\n",
      "-1\n",
      "-1\n",
      "-1\n",
      "-1\n",
      "-1\n",
      "-1\n",
      "-1\n",
      "-1\n",
      "-1\n",
      "-1\n",
      "-1\n",
      "-1\n",
      "-1\n",
      "-1\n",
      "-1\n",
      "-1\n"
     ]
    }
   ],
   "source": [
    "for i in range(2):\n",
    "    for j in range(n):\n",
    "        if dfs(graph,n,target,i,j):\n",
    "            answer+=1"
   ]
  },
  {
   "cell_type": "code",
   "execution_count": 16,
   "metadata": {},
   "outputs": [
    {
     "data": {
      "text/plain": [
       "-1"
      ]
     },
     "execution_count": 16,
     "metadata": {},
     "output_type": "execute_result"
    }
   ],
   "source": [
    "graph=[numbers,[num*(-1) for num in numbers]]\n",
    "graph[1][2]"
   ]
  }
 ],
 "metadata": {
  "kernelspec": {
   "display_name": "Python 3",
   "language": "python",
   "name": "python3"
  },
  "language_info": {
   "codemirror_mode": {
    "name": "ipython",
    "version": 3
   },
   "file_extension": ".py",
   "mimetype": "text/x-python",
   "name": "python",
   "nbconvert_exporter": "python",
   "pygments_lexer": "ipython3",
   "version": "3.8.5"
  }
 },
 "nbformat": 4,
 "nbformat_minor": 4
}
