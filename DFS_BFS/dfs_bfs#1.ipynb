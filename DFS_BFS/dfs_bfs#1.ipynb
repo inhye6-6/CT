{
 "cells": [
  {
   "cell_type": "code",
   "execution_count": 1,
   "metadata": {},
   "outputs": [],
   "source": [
    "numbers=[1,1,1,1,1]\n",
    "target=3"
   ]
  },
  {
   "cell_type": "code",
   "execution_count": 2,
   "metadata": {},
   "outputs": [
    {
     "data": {
      "text/plain": [
       "5"
      ]
     },
     "execution_count": 2,
     "metadata": {},
     "output_type": "execute_result"
    }
   ],
   "source": [
    "def solution(numbers, target):\n",
    "    answer = 0\n",
    "    \n",
    "    def dfs(i,numbers,target):\n",
    "        n = len(numbers)\n",
    "        if i == n :\n",
    "            result = 0\n",
    "            for num in numbers:\n",
    "                result += num\n",
    "            if result == target :\n",
    "                nonlocal answer\n",
    "                answer +=1 \n",
    "        else :\n",
    "            numbers[i]*=1\n",
    "            dfs(i+1,numbers,target)\n",
    "\n",
    "            numbers[i]*=-1\n",
    "            dfs(i+1,numbers,target)\n",
    "    \n",
    "    dfs(0,numbers,target)\n",
    "    \n",
    "    return answer\n",
    "\n",
    "solution(numbers, target)"
   ]
  },
  {
   "cell_type": "markdown",
   "metadata": {},
   "source": [
    "기본 생각 : dfs로 전체 경우 다 체크해서 결과가 target이랑 같을 때 answer + 1\n",
    "\n",
    "1. 음수, 양수 따로 dfs 재귀로 돌려야함\n",
    "2. solution 안에 dfs를 두면 생각해보니까 target 필요없네\n",
    "3. answer은 nonlocal로 해서 scope 고려안하게 해야함 !!!!!!!!!!!!!!!!!!!!!!1 \n"
   ]
  },
  {
   "cell_type": "markdown",
   "metadata": {},
   "source": [
    "### 다른사람 풀이 #1"
   ]
  },
  {
   "cell_type": "code",
   "execution_count": 5,
   "metadata": {},
   "outputs": [],
   "source": [
    "def solution(numbers, target):\n",
    "    if not numbers and target == 0 :\n",
    "        return 1\n",
    "    elif not numbers:\n",
    "        return 0\n",
    "    else:\n",
    "        return solution(numbers[1:], target-numbers[0]) + solution(numbers[1:], target+numbers[0])\n"
   ]
  },
  {
   "cell_type": "code",
   "execution_count": 6,
   "metadata": {},
   "outputs": [
    {
     "data": {
      "text/plain": [
       "5"
      ]
     },
     "execution_count": 6,
     "metadata": {},
     "output_type": "execute_result"
    }
   ],
   "source": [
    "solution(numbers, target)"
   ]
  }
 ],
 "metadata": {
  "kernelspec": {
   "display_name": "Python 3",
   "language": "python",
   "name": "python3"
  },
  "language_info": {
   "codemirror_mode": {
    "name": "ipython",
    "version": 3
   },
   "file_extension": ".py",
   "mimetype": "text/x-python",
   "name": "python",
   "nbconvert_exporter": "python",
   "pygments_lexer": "ipython3",
   "version": "3.8.5"
  }
 },
 "nbformat": 4,
 "nbformat_minor": 4
}
